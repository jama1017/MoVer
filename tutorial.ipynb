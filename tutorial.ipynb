{
 "cells": [
  {
   "cell_type": "markdown",
   "metadata": {},
   "source": [
    "## MoVer Tutorial\n",
    "\n",
    "# ![MoVer Pipeline](assets/mover_pipeline.png)\n",
    "\n",
    "As MoVer can be used as an end-to-end animation pipeline, you can also use its various components separately. This tutorial will walk you through these components and show you how to use them. \n",
    "\n",
    "In case you just want to look through the code, we have included the generated results of the first four parts of this tutorial in the `examples/` directory (`translate_right*` files)."
   ]
  },
  {
   "cell_type": "code",
   "execution_count": null,
   "metadata": {},
   "outputs": [],
   "source": [
    "from mover.dsl.mover_verifier import MoverVerifier\n",
    "from mover.synthesizers.animation_synthesizer import AnimationSynthesizer\n",
    "from mover.synthesizers.mover_synthesizer import MoverSynthesizer\n",
    "import subprocess"
   ]
  },
  {
   "cell_type": "markdown",
   "metadata": {},
   "source": [
    "## 1. Generate an animation program"
   ]
  },
  {
   "cell_type": "code",
   "execution_count": null,
   "metadata": {},
   "outputs": [],
   "source": [
    "## Set a unique identifier for this animation for naming the output files\n",
    "animation_id = \"demo_translate_right\"\n",
    "\n",
    "## Define the animation we want to create using natural language\n",
    "animation_prompt = \"Translate the black square to the right by 100 px over 2 seconds.\"\n",
    "\n",
    "## Static SVG file path to be animated\n",
    "svg_file_path = \"examples/svg/four_objects.svg\""
   ]
  },
  {
   "cell_type": "code",
   "execution_count": null,
   "metadata": {},
   "outputs": [],
   "source": [
    "## Create an instance of the animation synthesizer. By default, it uses GPT-4.1 from OpenAI\n",
    "## Make sure you have the API key for OpenAI in your environment variables (the name has to be `OPENAI_API_KEY`)\n",
    "animation_synthesizer = AnimationSynthesizer() \n",
    "\n",
    "## Example: using llama-3.3-70b-versatile from Groq. Refer to the YAML config file for more details about how to pass in parameters like temperature, top_p, etc.\n",
    "# animation_synthesizer = AnimationSynthesizer(model_name=\"llama-3.3-70b-versatile\", provider=\"groq\") \n",
    "\n",
    "## Initialize the chat history with system message and initial animation prompt\n",
    "## The system message sets up the context for the LLM\n",
    "## The initial animation prompt includes our animation description and the SVG file to animate\n",
    "## You can specify compose_sys_msg(sys_msg_file_path=<some_path>) to use a custom system message\n",
    "chat_history = [animation_synthesizer.compose_sys_msg(), \n",
    "                animation_synthesizer.compose_initial_user_prompt(animation_prompt, svg_file_path)]\n",
    "\n",
    "## Generate the JavaScript animation code\n",
    "response, error_msg = animation_synthesizer.generate(chat_history, \n",
    "                                                    svg_file_path, \n",
    "                                                    f\"examples/{animation_id}.html\")\n",
    "\n",
    "print(error_msg if error_msg else response)"
   ]
  },
  {
   "cell_type": "markdown",
   "metadata": {},
   "source": [
    "## 2. Generate a MoVer program from the animation prompt"
   ]
  },
  {
   "cell_type": "code",
   "execution_count": null,
   "metadata": {},
   "outputs": [],
   "source": [
    "## Create an instance of the MoVer program synthesizer\n",
    "mover_synthesizer = MoverSynthesizer() ## by default, it uses GPT-4.1 from OpenAI\n",
    "# mover_synthesizer = MoverSynthesizer(model_name=\"llama-3.3-70b-versatile\", provider=\"groq\") ## change the model to llama-3.3-70b-versatile from Groq\n",
    "\n",
    "## Prepare the system message and animation prompt for generating the MoVer program\n",
    "chat_history = [mover_synthesizer.compose_sys_msg(),\n",
    "                mover_synthesizer.compose_initial_user_prompt(animation_prompt, svg_file_path)]\n",
    "\n",
    "## Generate the MoVer program specification\n",
    "response, error_msg = mover_synthesizer.generate(chat_history, f\"examples/{animation_id}.py\")\n",
    "\n",
    "print(error_msg if error_msg else response)"
   ]
  },
  {
   "cell_type": "markdown",
   "metadata": {},
   "source": [
    "## 3. Convert the animation program to MoVer data format and render a video"
   ]
  },
  {
   "cell_type": "code",
   "execution_count": null,
   "metadata": {},
   "outputs": [],
   "source": [
    "## Convert the HTML animation into a video file using the MoVer converter tool\n",
    "## Here we use subprocess because the browser-based converter tool uses asyncio, which doesn't work well with Jupyter notebooks\n",
    "## Outside of Jupyter notebooks, you can directly call the converter tool with `convert_animation()`\n",
    "## Parameters: the HTML file path, the port number of the converter tool, and the flag to create a video (omit if you don't want to create a video)\n",
    "subprocess.run([\"python\", \"-m\", \"mover.converter.mover_converter\", f\"examples/{animation_id}.html\", \"3013\", \"--create-video\"])"
   ]
  },
  {
   "cell_type": "markdown",
   "metadata": {},
   "source": [
    "## 4. Verify the animation with the MoVer program"
   ]
  },
  {
   "cell_type": "code",
   "execution_count": null,
   "metadata": {},
   "outputs": [],
   "source": [
    "## Define paths to the MoVer program and animation data files\n",
    "program_file = f\"examples/{animation_id}.py\"  # The MoVer program verification file\n",
    "animation_file = f\"examples/{animation_id}_data.json\"  # The animation data compatible with the MoVer execution engine\n",
    "\n",
    "## Create a verifier instance and verify that the animation matches the MoVer program\n",
    "## The verifier checks that all predicates in the MoVer program are satisfied by the animation\n",
    "verifier = MoverVerifier()\n",
    "verification_report = verifier.verify(program_file, animation_file)\n",
    "print(verification_report)"
   ]
  },
  {
   "cell_type": "markdown",
   "metadata": {},
   "source": [
    "## 5. Putting these togther into a pipeline"
   ]
  },
  {
   "cell_type": "code",
   "execution_count": null,
   "metadata": {},
   "outputs": [],
   "source": [
    "## Run the pipeline on the starter example\n",
    "subprocess.run([\"python\", \"-m\", \"mover.pipeline\", \"examples/configs/config_starter.yaml\"])"
   ]
  },
  {
   "cell_type": "code",
   "execution_count": null,
   "metadata": {},
   "outputs": [],
   "source": [
    "## Run the pipeline on the teaser example\n",
    "subprocess.run([\"python\", \"-m\", \"mover.pipeline\", \"examples/configs/config_teaser.yaml\"])"
   ]
  },
  {
   "cell_type": "markdown",
   "metadata": {},
   "source": [
    "## 6. Compute stats on the iterations"
   ]
  },
  {
   "cell_type": "code",
   "execution_count": null,
   "metadata": {},
   "outputs": [],
   "source": [
    "## To get stats on the iterations similar to the one in the paper, run the following command\n",
    "subprocess.run([\"python\", \"-m\", \"mover.stats\", \"examples/configs/config_starter.yaml\", \"examples/configs/config_teaser.yaml\"])"
   ]
  }
 ],
 "metadata": {
  "language_info": {
   "name": "python"
  }
 },
 "nbformat": 4,
 "nbformat_minor": 2
}
